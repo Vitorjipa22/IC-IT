{
  "nbformat": 4,
  "nbformat_minor": 0,
  "metadata": {
    "colab": {
      "provenance": [],
      "collapsed_sections": []
    },
    "kernelspec": {
      "name": "python3",
      "display_name": "Python 3"
    },
    "language_info": {
      "name": "python"
    }
  },
  "cells": [
    {
      "cell_type": "code",
      "execution_count": null,
      "metadata": {
        "id": "2yf6ITOm3Yg5"
      },
      "outputs": [],
      "source": [
        "%matplotlib inline\n",
        "import numpy as np\n",
        "import matplotlib.pyplot as plt\n",
        "from scipy.integrate import odeint"
      ]
    },
    {
      "cell_type": "markdown",
      "source": [
        "## Variáveis do Sistema"
      ],
      "metadata": {
        "id": "oq7_iHzIBTmv"
      }
    },
    {
      "cell_type": "code",
      "source": [
        "# Fluidos do processo\n",
        "rho = 1000  # Kg/m^3\n",
        "q = 0.001   # m^3/s\n",
        "cp = 4180   # J(/Kg.K)\n",
        "Te = 300    # K\n",
        "V = 0.2     # m^3\n",
        "\n",
        "# Resistência do Zinco\n",
        "rhor = 7140 # Kg/m^3\n",
        "Vr = 0.0003 # m^3\n",
        "cpr = 382   # J(/Kg.K)\n",
        "hr = 1180   # Coeficiente de transferência de calor entre o fluido e o metal\n",
        "Ar = 0.1    # m^2\n",
        "\n",
        "# Valor inicial da Variável Manipulada\n",
        "Q_barra = 10000 # Watts(J/s)\n",
        "\n",
        "# Condições Iniciais\n",
        "T0 = 302.39  # K\n",
        "Tr0 = 387.14 # K\n"
      ],
      "metadata": {
        "id": "poDa0JM33Z0s"
      },
      "execution_count": null,
      "outputs": []
    },
    {
      "cell_type": "markdown",
      "source": [
        "Função EDO's"
      ],
      "metadata": {
        "id": "AkPl9K2jBagq"
      }
    },
    {
      "cell_type": "code",
      "source": [
        "def FuncaoTanque(M,t):\n",
        "\n",
        "  '''\n",
        "  qlkjçljkf\n",
        "  M: vairiai\n",
        "  '''\n",
        "  T,Tr = M\n",
        "  dT_dt = (rho*q*cp*(Te - T) + hr*Ar*(Tr - T))/(rho*V*cp)\n",
        "  dTr_dt = (Q - hr*Ar*(Tr - T))/(rhor*Vr*cpr)\n",
        "  \n",
        "  return(dT_dt, dTr_dt)"
      ],
      "metadata": {
        "id": "YiWFEVuy3cYw"
      },
      "execution_count": null,
      "outputs": []
    },
    {
      "cell_type": "markdown",
      "source": [
        "Implementação do PID"
      ],
      "metadata": {
        "id": "IAQuvgR5Bj5f"
      }
    },
    {
      "cell_type": "code",
      "source": [
        "Tset = 320  # K\n",
        "\n",
        "num = 5\n",
        "delta_t = 50\n",
        "t0 = 0\n",
        "I = 0   # O valor integrador é 0 na primeira iteração\n",
        "T_vetor = []\n",
        "tempo = []\n",
        "M = []\n",
        "t_vetor = []\n",
        "Kc = 10\n",
        "TauI = 0.2\n",
        "TauD = 2  # com erro = 0 não existe ação de controle na primeira iteração\n",
        "e = 0\n",
        "e_anterior = 0\n",
        "T0 = 302.39\n",
        "Tr0 = 387.14\n",
        "\n",
        "ne = 80\n",
        "for i in range(0,ne):\n",
        "    P = e \n",
        "    I = e*delta_t + I\n",
        "    D = (e-e_anterior)/delta_t\n",
        "    Q = Q_barra + Kc*(P + (1/TauI)*I + TauD*D) # equação do controle PID\n",
        "\n",
        "    tf = t0 + delta_t\n",
        "    t = np.linspace(t0,tf,num)\n",
        "    M = odeint(FuncaoTanque,[T0, Tr0],t) \n",
        "    t0 = tf\n",
        "\n",
        "    T = M[:,0]\n",
        "    Tr = M[:,1]\n",
        "    e = Tset - T[num-1]             # calcula o erro atual, T_vetor[num-1] é o ultimo elemento do vetor\n",
        "    e_anterior = Tset - T[0]        # calcula o erro anterior, T_vetor[0] é o primeiro elemento do vetor\n",
        "    T0 = T[num-1]\n",
        "    Tr0 = Tr[num-1]\n",
        "\n",
        "    T_vetor = np.append(T_vetor,T)  # adiciona o vetor menor T no final do vetor maior T_vetor (Temperatura)\n",
        "    t_vetor = np.append(t_vetor,t)  # adiciona o vetor menor t no final do vetor maior t_vetor (Tempo)"
      ],
      "metadata": {
        "id": "Sv0UoUow3j5T"
      },
      "execution_count": 25,
      "outputs": []
    },
    {
      "cell_type": "code",
      "source": [
        "plt.plot(t_vetor,T_vetor)"
      ],
      "metadata": {
        "id": "l-PihOmd3e2b",
        "colab": {
          "base_uri": "https://localhost:8080/",
          "height": 283
        },
        "outputId": "46cd3d15-b32f-4cd8-9786-39485ffae28c"
      },
      "execution_count": 26,
      "outputs": [
        {
          "output_type": "execute_result",
          "data": {
            "text/plain": [
              "[<matplotlib.lines.Line2D at 0x7f7c9539aa10>]"
            ]
          },
          "metadata": {},
          "execution_count": 26
        },
        {
          "output_type": "display_data",
          "data": {
            "text/plain": [
              "<Figure size 432x288 with 1 Axes>"
            ],
            "image/png": "[encoded data removed]"
          },
          "metadata": {
            "needs_background": "light"
          }
        }
      ]
    },
    {
      "cell_type": "code",
      "source": [],
      "metadata": {
        "id": "-VVDVWB9kcpV"
      },
      "execution_count": null,
      "outputs": []
    }
  ]
}