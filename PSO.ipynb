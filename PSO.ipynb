{
  "cells": [
    {
      "cell_type": "markdown",
      "metadata": {
        "id": "AfQ_GtGsp_Zs"
      },
      "source": [
        "# PSO IC&IT\n"
      ]
    },
    {
      "cell_type": "markdown",
      "metadata": {
        "id": "XL3qtvQ42wzt"
      },
      "source": [
        "## Imports "
      ]
    },
    {
      "cell_type": "code",
      "execution_count": null,
      "metadata": {
        "colab": {
          "base_uri": "https://localhost:8080/",
          "height": 567
        },
        "id": "o-EEigk-nmAw",
        "outputId": "80c579c2-c6a5-409b-db05-3d2c5e5c4bbc"
      },
      "outputs": [],
      "source": [
        "!pip install control\n",
        "\n",
        "import random\n",
        "import math    \n",
        "import copy    \n",
        "import numpy as np\n",
        "import matplotlib.pyplot as plt\n",
        "from PID import PID\n",
        "\n",
        "rnd = random.Random(100)"
      ]
    },
    {
      "cell_type": "markdown",
      "metadata": {
        "id": "8O9UGEtA20AU"
      },
      "source": [
        "## Particula"
      ]
    },
    {
      "cell_type": "code",
      "execution_count": null,
      "metadata": {
        "id": "_eDiDPLK6i4N"
      },
      "outputs": [],
      "source": [
        "class Particula:\n",
        "  def __init__(self, dim, mini, maxi):\n",
        "    # definindo semente de aleatoriedade\n",
        "    global rnd\n",
        "\n",
        "    self.X = list()\n",
        "    self.V = list()\n",
        "    self.pbest = list()\n",
        "    self.I = 1.0\n",
        "    self.erro = 0\n",
        "\n",
        "    # Criando valores de position, velocidade e melhor posição da particula (pbest)\n",
        "\n",
        "    for i in range(dim):\n",
        "      self.X.append((maxi[i] - mini[i]) * rnd.random() + mini[i])\n",
        "      self.V.append((maxi[i] - mini[i]) * rnd.random() + mini[i])\n",
        "\n",
        "    self.pbest = copy.copy(self.X) \n"
      ]
    },
    {
      "cell_type": "markdown",
      "metadata": {
        "id": "kDw5dRbg248c"
      },
      "source": [
        "## Função "
      ]
    },
    {
      "cell_type": "code",
      "execution_count": null,
      "metadata": {
        "id": "lyaZMTW7Ehkk"
      },
      "outputs": [],
      "source": [
        "def function(x, plot = False):\n",
        "  '''\n",
        "  Função que calcula a posição de cada uma das particulas\n",
        "  '''\n",
        "  # função de teste para dimensão 1\n",
        "  # y = (12*(x[0] ** 5) - 975*(x[0] ** 4) + 28000*(x[0] ** 3) - 345000*(x[0] ** 2) + 1800000*x[0])/1000000\n",
        " \n",
        "  #instancia o PID\n",
        "  pid = PID(num = [16], den = [1,4,16])\n",
        "\n",
        "  #saida do controlador e o erro do controlador\n",
        "  y, error = pid.controller(x[0],x[1],x[2])\n",
        "  \n",
        "  #calcula erro absoluto do sistema\n",
        "  error_sum = sum(abs(error))\n",
        "  \n",
        "  #plotagem caso desejado\n",
        "  if plot:\n",
        "    pid.plot(y, set_point = True)\n",
        "    print(error_sum)\n",
        "\n",
        "\n",
        "  return error_sum"
      ]
    },
    {
      "cell_type": "markdown",
      "metadata": {
        "id": "tedp5nPY3LHE"
      },
      "source": [
        "## Plotando Sistema"
      ]
    },
    {
      "cell_type": "code",
      "execution_count": null,
      "metadata": {
        "id": "sDvmGyl5LD1H"
      },
      "outputs": [],
      "source": [
        "def plotando_particulas(x,y,particulas,i,w,c1,c2, parada, dim):\n",
        "  if(dim == 1):\n",
        "    fig,ax = plt.subplots(figsize = (12,8))\n",
        "\n",
        "    lin_plot = ax.plot(x[0],y)\n",
        "    part_X = [particula.X for particula in particulas]\n",
        "    X = [part_X[i][0] for i in range(len(particulas))]\n",
        "    Y = [function(x) for x in part_X]\n",
        "\n",
        "    \n",
        "\n",
        "    plt.scatter(X,Y, marker='o', color='black', alpha=0.5)\n",
        "    plt.plot(x[0],y, color='blue')\n",
        "\n",
        "    plt.figtext(0.125,0.95 , f'Fator de inercia: {w} coeficiente cognitivo: {c1} coeficiente social: {c2} ',\n",
        "                fontsize = 15,fontname = 'monospace', color = '#283655')\n",
        "    plt.figtext(0.125,0.90 , f'Critério de parada: {parada} Iteração: {i}',\n",
        "                fontsize = 15,fontname = 'monospace', color = '#283655')\n",
        "\n",
        "    fig.canvas.draw()\n",
        "    \n",
        "    plt.show()\n",
        "\n",
        "    return fig\n",
        "  \n",
        "  elif(dim == 2):\n",
        "    pass"
      ]
    },
    {
      "cell_type": "markdown",
      "metadata": {
        "id": "dgB4kYvHiFkI"
      },
      "source": [
        "## Plot PID"
      ]
    },
    {
      "cell_type": "code",
      "execution_count": null,
      "metadata": {
        "id": "4ASqsR7miI8t"
      },
      "outputs": [],
      "source": [
        "def plot_pid(X,pid_param):\n",
        "  erro = list()\n",
        "\n",
        "  pid = Pid(pid_param[0],pid_param[1],set_point = pid_param[2])\n",
        "  y, _, _ = pid.controller(X[0],X[1],X[2])\n",
        "  p1, p2 = Tempo_Subida(X, pid_param)\n",
        "\n",
        "  erro.append(ISE(X, pid_param))\n",
        "  erro.append(IAE(X, pid_param))\n",
        "  erro.append(ITSE(X, pid_param))\n",
        "  erro.append(Tempo_Acomodacao(X, pid_param))\n",
        "  erro.append(p1)\n",
        "  erro.append(p2)\n",
        "  erro.append(Overshoot(X, pid_param))\n",
        "\n",
        "  pid.plot(y,erro, temp_plot = 3.0)"
      ]
    },
    {
      "cell_type": "markdown",
      "metadata": {
        "id": "uofmjhg9tLEB"
      },
      "source": [
        "## PID"
      ]
    },
    {
      "cell_type": "code",
      "execution_count": null,
      "metadata": {
        "id": "lLOalwnMtLQX"
      },
      "outputs": [],
      "source": [
        "def Pid(num, den, set_point):  \n",
        "  '''\n",
        "  Esta funçao cria um PID com determinados parametros\n",
        "  e devolve varios tipos de erro\n",
        "  '''\n",
        " \n",
        "  #instancia o PID\n",
        "  pid = PID(num = num,den = den, set_point = set_point)\n",
        "\n",
        "  return pid"
      ]
    },
    {
      "cell_type": "markdown",
      "metadata": {
        "id": "GEjyRA0427n8"
      },
      "source": [
        "## Criando os passarinhos"
      ]
    },
    {
      "cell_type": "code",
      "execution_count": null,
      "metadata": {
        "id": "qggFfIJLIu3-"
      },
      "outputs": [],
      "source": [
        "def inicializate(n_part, dim, min, max, n_points = 500):\n",
        "  '''\n",
        "  incializa as particulas com valores aleatórios\n",
        "  entre o minimo e o maximo determinado\n",
        "  '''\n",
        "\n",
        "  particulas = [Particula( dim, min, max) for i in range(n_part)]\n",
        "\n",
        "  return particulas\n"
      ]
    },
    {
      "cell_type": "markdown",
      "metadata": {
        "id": "na45rezoIQe-"
      },
      "source": [
        "## Atualizando particula"
      ]
    },
    {
      "cell_type": "code",
      "execution_count": null,
      "metadata": {
        "id": "owfnnAO6IO4-"
      },
      "outputs": [],
      "source": [
        "def updating_particle(particula ,min ,max, dim):\n",
        "  '''\n",
        "  Função que atualiza a posição da particula\n",
        "  '''\n",
        "  for i in range(dim):\n",
        "    particula.X[i] = particula.X[i] + particula.V[i]\n",
        "\n",
        "    if particula.X[i] > max[i]:\n",
        "      particula.X[i] = max[i]\n",
        "\n",
        "    elif particula.X[i] < min[i]:\n",
        "      particula.X[i] = min[i]\n",
        "    \n",
        "  return particula"
      ]
    },
    {
      "cell_type": "markdown",
      "metadata": {
        "id": "ubq8829BIaSu"
      },
      "source": [
        "## Atualizando velocidade"
      ]
    },
    {
      "cell_type": "code",
      "execution_count": null,
      "metadata": {
        "id": "Fjljy_KiId4u"
      },
      "outputs": [],
      "source": [
        "def updating_velocity(particula ,w ,c1 ,c2 ,g_best ):\n",
        "  '''\n",
        "  Função que atualiza a velocidade da particula\n",
        "  '''\n",
        "  rnd = random.Random(100)\n",
        "  \n",
        "  for i in range(dim):\n",
        "    prim = w*particula.V[i]\n",
        "    seg =  c1*rnd.random()*(particula.pbest[i] - particula.X[i])\n",
        "    terc = c2*rnd.random()*(g_best[i]-particula.X[i])\n",
        "\n",
        "    new_velocity = prim + seg + terc\n",
        "\n",
        "    particula.V[i] = new_velocity\n",
        "\n",
        "  return particula"
      ]
    },
    {
      "cell_type": "markdown",
      "metadata": {
        "id": "WYvXXMdjJUyo"
      },
      "source": [
        "## Atualizando pbest"
      ]
    },
    {
      "cell_type": "code",
      "execution_count": null,
      "metadata": {
        "id": "0cMgLEqCJY3R"
      },
      "outputs": [],
      "source": [
        "def updating_pbest(particula, pid_param):\n",
        "  '''\n",
        "  Função que atualiza o pbest, ou seje, o ponto \n",
        "  com o melhor resultado entre todos os pontos ja\n",
        "  percorridos por dada particula. O melhor resultado\n",
        "  depende se o problema é de minimização ou maximização.\n",
        "  '''\n",
        "\n",
        "  pid = Pid(pid_param[0], pid_param[1], set_point = pid_param[2])\n",
        "\n",
        "\n",
        "  if particula.erro < ISE(particula.pbest, pid_param):\n",
        "    particula.pbest = particula.X.copy()\n",
        "\n",
        "  return particula"
      ]
    },
    {
      "cell_type": "markdown",
      "metadata": {
        "id": "aDe0TU2PJh-i"
      },
      "source": [
        "## Atualizando improvement"
      ]
    },
    {
      "cell_type": "code",
      "execution_count": null,
      "metadata": {
        "id": "O80XPVHeJk86"
      },
      "outputs": [],
      "source": [
        "def updating_improvement(particula ,w ,c1 ,c2 ,g_best,dim ,min, max, pid):\n",
        "  \n",
        "  particula.I = ISE(particula.pbest, pid_param) - ISE(particula.X, pid_param)\n",
        "\n",
        "  # print(f'particula.I : {particula.I}')\n",
        "  # print(f'ise posição atual: {ISE(particula.X, pid_param)} , ise pbest {ISE(particula.pbest, pid_param)}')\n",
        "\n",
        "  return particula"
      ]
    },
    {
      "cell_type": "markdown",
      "metadata": {
        "id": "imB1OgibIsLn"
      },
      "source": [
        "## Atualizando gbest"
      ]
    },
    {
      "cell_type": "code",
      "execution_count": null,
      "metadata": {
        "id": "2URBXJKLIrWX"
      },
      "outputs": [],
      "source": [
        "def updating_gbest(particulas, pid_param):\n",
        "  '''\n",
        "  Função que atualiza o gbest, ou seje, o ponto \n",
        "  com o melhor resultado entre as particulas. O\n",
        "  melhor resultado depende se o problema é de \n",
        "  minimização ou maximização.\n",
        "  '''\n",
        "  \n",
        "  resultados = [particula.erro for particula in particulas]\n",
        "\n",
        "  erro_min = np.min(resultados)\n",
        "  arg_min = np.argmin(resultados)\n",
        "\n",
        "  g_best = particulas[arg_min].X.copy()\n",
        "\n",
        "  return g_best"
      ]
    },
    {
      "cell_type": "markdown",
      "metadata": {
        "id": "f0QACF9DxUg9"
      },
      "source": [
        "## ISE\n"
      ]
    },
    {
      "cell_type": "code",
      "execution_count": null,
      "metadata": {
        "id": "n7vf8gVhlY9N"
      },
      "outputs": [],
      "source": [
        "def ISE(particula, pid_param):\n",
        "  pid = Pid(pid_param[0],pid_param[1],set_point = pid_param[2])\n",
        "\n",
        "  if type(particula) == list:\n",
        "    try:\n",
        "      _, erro, _ = pid.controller(particula[0],particula[1],particula[2])\n",
        "      erro = sum(erro ** 2)\n",
        "      return erro\n",
        "\n",
        "    except:\n",
        "      particula = [round(i) for i in particula]\n",
        "      _, erro, _ = pid.controller(particula[0],particula[1],particula[2])\n",
        "      erro = sum(erro ** 2)\n",
        "      return erro\n",
        "\n",
        "  else:\n",
        "    _, particula.erro, _ = pid.controller(particula.X[0],particula.X[1],particula.X[2])\n",
        "    particula.erro = sum(particula.erro ** 2)\n",
        "    # print(f'particula.erro : {particula.erro:,.2f} posição: {particula.X} pbest {particula.pbest}' )\n",
        "    return particula"
      ]
    },
    {
      "cell_type": "markdown",
      "metadata": {
        "id": "Hzk6Mwb3nGNv"
      },
      "source": [
        "## IAE"
      ]
    },
    {
      "cell_type": "code",
      "execution_count": null,
      "metadata": {
        "id": "9y2z35ZDnLpO"
      },
      "outputs": [],
      "source": [
        "def IAE(particula, pid_param):\n",
        "  pid = Pid(pid_param[0],pid_param[1],set_point = pid_param[2])\n",
        "\n",
        "  if type(particula) == list:\n",
        "    try:\n",
        "      _, erro, _ = pid.controller(particula[0],particula[1],particula[2])\n",
        "      erro = sum(abs(erro))\n",
        "                 \n",
        "      return erro\n",
        "\n",
        "    except:\n",
        "      particula = [round(i) for i in particula]\n",
        "      _, erro, _ = pid.controller(particula[0],particula[1],particula[2])\n",
        "      erro = sum(abs(erro))\n",
        "      return erro\n",
        "\n",
        "  else:\n",
        "    _, particula.erro, _ = pid.controller(particula.X[0],particula.X[1],particula.X[2])\n",
        "    particula.erro = sum(abs(particula.erro))\n",
        "    # print(f'particula.erro : {particula.erro:,.2f} posição: {particula.X} pbest {particula.pbest}' )\n",
        "    return particula"
      ]
    },
    {
      "cell_type": "markdown",
      "metadata": {
        "id": "ORvIIK27GJJi"
      },
      "source": [
        "## ITSE"
      ]
    },
    {
      "cell_type": "code",
      "execution_count": null,
      "metadata": {
        "id": "uI_kjc_sGL0S"
      },
      "outputs": [],
      "source": [
        "def ITSE(particula, pid_param):\n",
        "\n",
        "  pid = Pid(pid_param[0],pid_param[1],set_point = pid_param[2])\n",
        "\n",
        "  if type(particula) == list:\n",
        "    try:\n",
        "      _, erro, temp = pid.controller(particula[0],particula[1],particula[2])\n",
        "      erro = sum(temp * (erro ** 2))\n",
        "                 \n",
        "      return erro\n",
        "\n",
        "    except:\n",
        "      particula = [round(i) for i in particula]\n",
        "      _, erro, temp = pid.controller(particula[0],particula[1],particula[2])\n",
        "      erro = sum(temp * (erro ** 2))\n",
        "      return erro\n",
        "\n",
        "  else:\n",
        "    _, particula.erro, temp = pid.controller(particula.X[0],particula.X[1],particula.X[2])\n",
        "    particula.erro = sum(temp * (erro ** 2))\n",
        "    # print(f'particula.erro : {particula.erro:,.2f} posição: {particula.X} pbest {particula.pbest}' )\n",
        "    return particula"
      ]
    },
    {
      "cell_type": "markdown",
      "metadata": {
        "id": "RF0wZm373C9k"
      },
      "source": [
        "## Atualizando Sistema"
      ]
    },
    {
      "cell_type": "code",
      "execution_count": null,
      "metadata": {
        "id": "mwXj93J9l7S5"
      },
      "outputs": [],
      "source": [
        "def update_sistem(particulas ,min ,max ,w , c1, c2, parada, dim, pid_param):\n",
        "  '''\n",
        "  Função responável por atualizar todo o sistemas\n",
        "  do PSO\n",
        "  '''\n",
        "  sem_melhoras = 0\n",
        "    \n",
        "  n_iter = 1\n",
        "\n",
        "  particulas = [ISE(particula, pid_param) for particula in particulas]\n",
        "\n",
        "  g_best = updating_gbest(particulas, pid_param).copy()\n",
        "\n",
        "  while(True):\n",
        "\n",
        "    if (sem_melhoras > 0):\n",
        "      print(f\"\\nSem melhoras á {sem_melhoras} iterações\\n\")\n",
        "\n",
        "    if (sem_melhoras == 5):\n",
        "      print(f'< Critério de parada atingido, o sistemas não teve melhoras significativas a 5 iterações. >')\n",
        "      print(f'< {n_iter} iterações antes de atingir o critério. >')\n",
        "      break\n",
        "\n",
        "\n",
        "    # for particula in particulas:\n",
        "    #   print(f'Posição da particula: {particula.X[0]:,.3f} , {particula.X[1]:,.3f} , {particula.X[2]:,.3f}')\n",
        "    #   print(f'velocidade da particula: {particula.V[0]:,.3f} , {particula.V[1]:,.3f} , {particula.V[2]:,.3f}')\n",
        "    #   print(f'melhora da particula: {particula.I:,.3f}')\n",
        "    #   print(f'Pbest da particula: {g_best[0]:,.3f} , {g_best[1]:,.3f} , {g_best[2]:,.3f}')\n",
        "    #   print(f'erro da particula: {particula.erro:,.3f}')\n",
        "    # print(f'\\ngbest {g_best[0]:,.3f} , {g_best[1]:,.3f} , {g_best[2]:,.3f}')\n",
        "    # print(f'gbest type: {type(g_best)}')\n",
        "    # print(f'gbest erro: {ISE(g_best,pid_param):,.3f}\\n')\n",
        "\n",
        "    particulas = [updating_particle(particula, min, max,dim) for particula in particulas]\n",
        "    particulas = [updating_velocity(particula,w,c1,c2,g_best) for particula in particulas]\n",
        "    particulas = [ISE(particula, pid_param) for particula in particulas]\n",
        "    particulas = [updating_improvement(particula,w,c1,c2,g_best,dim,min,max,pid_param) for particula in particulas]\n",
        "    particulas = [updating_pbest(particula,pid_param) for particula in particulas]\n",
        "   \n",
        "    erro_gbest = ISE(g_best,pid_param)\n",
        "\n",
        "    # erro_IAE = IAE(g_best, pid_param)\n",
        "    # print(erro_IAE)\n",
        "    \n",
        "    gbest_it = updating_gbest(particulas,pid_param)\n",
        "    erro_new_gbest = ISE(gbest_it, pid_param)\n",
        "\n",
        "    if erro_new_gbest < erro_gbest: \n",
        "      g_best = gbest_it\n",
        "\n",
        "    plot_pid(g_best,pid_param)\n",
        "\n",
        "    imp = [particula.I for particula in particulas]\n",
        "\n",
        "    sem_melhoras = sem_melhoras + 1 if np.max(imp) < parada else 0\n",
        "\n",
        "    n_iter += 1\n",
        "\n",
        "\n",
        "   \n"
      ]
    },
    {
      "cell_type": "markdown",
      "metadata": {
        "id": "-A9QwZEZFOIs"
      },
      "source": [
        "## Tempo de acomodação"
      ]
    },
    {
      "cell_type": "code",
      "execution_count": null,
      "metadata": {
        "id": "x8U2igLnFXo_"
      },
      "outputs": [],
      "source": [
        "def Tempo_Acomodacao(particula,pid_param):  \n",
        "  pid = Pid(pid_param[0],pid_param[1],set_point = pid_param[2])\n",
        "\n",
        "  Y, _, T = pid.controller(particula[0],particula[1],particula[2])\n",
        "\n",
        "  for i in range(len(Y)):\n",
        "    if Y[i] < 0.98 or Y[i] > 1.02:\n",
        "      last_point = i\n",
        "\n",
        "  temp_acom = T[last_point]\n",
        "\n",
        "  return temp_acom"
      ]
    },
    {
      "cell_type": "markdown",
      "metadata": {
        "id": "GmSflsCZjPl7"
      },
      "source": [
        "## Tempo de subida"
      ]
    },
    {
      "cell_type": "code",
      "execution_count": null,
      "metadata": {
        "id": "U9pzyvc7jOVi"
      },
      "outputs": [],
      "source": [
        "def Tempo_Subida(particula,pid_param):  \n",
        "  pid = Pid(pid_param[0],pid_param[1],set_point = pid_param[2])\n",
        "\n",
        "  Y, _, T = pid.controller(particula[0],particula[1],particula[2])\n",
        "  aux1, aux2 = False, False\n",
        "\n",
        "  for i in range(len(Y)):\n",
        "    if Y[i] > 0.05 and aux1 == False:\n",
        "      point5 = i-1\n",
        "      aux1 = True\n",
        "\n",
        "    elif Y[i] > 0.95 and aux2 == False:\n",
        "      point95 = i-1\n",
        "      aux2 = True\n",
        "\n",
        "  temp_subida = T[point95] - T[point5]\n",
        "  # print(T[point5])\n",
        "  # print(T[point95])\n",
        "\n",
        "  return T[point5],T[point95]\n",
        "  #return T[point95] - T[point5]"
      ]
    },
    {
      "cell_type": "markdown",
      "metadata": {
        "id": "BnOc5Xo90Lki"
      },
      "source": [
        "## Overshoot"
      ]
    },
    {
      "cell_type": "code",
      "execution_count": null,
      "metadata": {
        "id": "HlRycyph0Mmc"
      },
      "outputs": [],
      "source": [
        "def Overshoot(particula,pid_param):  \n",
        "  pid = Pid(pid_param[0],pid_param[1],set_point = pid_param[2])\n",
        "\n",
        "  Y, _, T = pid.controller(particula[0],particula[1],particula[2])\n",
        "\n",
        "  overshoot = np.max(Y)\n",
        "\n",
        "  return overshoot"
      ]
    },
    {
      "cell_type": "markdown",
      "metadata": {
        "id": "BaNGqqWG3V48"
      },
      "source": [
        "## Main"
      ]
    },
    {
      "cell_type": "code",
      "execution_count": 20,
      "metadata": {
        "id": "LFLEwQcwL1aS"
      },
      "outputs": [
        {
          "data": {
            "image/png": "[encoded data removed]",
            "text/plain": [
              "<Figure size 1500x700 with 1 Axes>"
            ]
          },
          "metadata": {},
          "output_type": "display_data"
        },
        {
          "name": "stdout",
          "output_type": "stream",
          "text": [
            "\n",
            "Sem melhoras á 4 iterações\n",
            "\n"
          ]
        },
        {
          "data": {
            "image/png": "[encoded data removed]",
            "text/plain": [
              "<Figure size 1500x700 with 1 Axes>"
            ]
          },
          "metadata": {},
          "output_type": "display_data"
        },
        {
          "name": "stdout",
          "output_type": "stream",
          "text": [
            "\n",
            "Sem melhoras á 5 iterações\n",
            "\n",
            "< Critério de parada atingido, o sistemas não teve melhoras significativas a 5 iterações. >\n",
            "< 52 iterações antes de atingir o critério. >\n"
          ]
        }
      ],
      "source": [
        "# melhores coeficientes: w = 0.25, c1 = 1.0, c2 = 0.75  \n",
        "# melhores coeficientes para o PID: w = 0.5, c1 = 1.0, c2 = 0.75 \n",
        "# melhores coeficientes para o PID: w = 1.0, c1 = 1.0, c2 = 0.5\n",
        "\n",
        "num = [16]\n",
        "den = [1,4,16]\n",
        "set_point = 1.0\n",
        "\n",
        "pid_param = list()\n",
        "\n",
        "w = 1.0 # fator de inercia\n",
        "c1 = 1.0  # fator cognitivo\n",
        "c2 = 0.5 # fator social\n",
        " \n",
        "n_part = 10 # numero de particulas\n",
        "parada = 0.001 # critério de parada\n",
        "dim = 3 # dimensão da entrada \n",
        "\n",
        "min = [0.001,0.001,0.001] # minimo do sistema\n",
        "max = [500.0,2.0,2.0] # maximo do sistema\n",
        "\n",
        "pid_param.append(num)\n",
        "pid_param.append(den)\n",
        "pid_param.append(set_point)\n",
        "\n",
        "particulas = inicializate(n_part, dim, min, max)  \n",
        "update_sistem(particulas,min,max,w,c1,c2,parada,dim,pid_param)\n",
        "  "
      ]
    },
    {
      "cell_type": "markdown",
      "metadata": {
        "id": "ZnhbtCnAHqZX"
      },
      "source": [
        "## Célula de teste"
      ]
    },
    {
      "cell_type": "code",
      "execution_count": 21,
      "metadata": {
        "id": "lT_4PH-TW6BA"
      },
      "outputs": [
        {
          "data": {
            "text/plain": [
              "(0.002, 0.015)"
            ]
          },
          "execution_count": 21,
          "metadata": {},
          "output_type": "execute_result"
        }
      ],
      "source": [
        "h = Tempo_Subida([100,0.100,0.100],pid_param)\n",
        "h"
      ]
    },
    {
      "cell_type": "code",
      "execution_count": null,
      "metadata": {
        "id": "tqp_Lg2qI7wi"
      },
      "outputs": [],
      "source": []
    }
  ],
  "metadata": {
    "colab": {
      "collapsed_sections": [
        "XL3qtvQ42wzt",
        "8O9UGEtA20AU",
        "kDw5dRbg248c",
        "tedp5nPY3LHE",
        "uofmjhg9tLEB",
        "GEjyRA0427n8",
        "na45rezoIQe-",
        "ubq8829BIaSu",
        "WYvXXMdjJUyo",
        "aDe0TU2PJh-i",
        "imB1OgibIsLn",
        "f0QACF9DxUg9",
        "Hzk6Mwb3nGNv",
        "ORvIIK27GJJi",
        "RF0wZm373C9k",
        "-A9QwZEZFOIs",
        "ID_ctgmHPrZf"
      ],
      "provenance": []
    },
    "kernelspec": {
      "display_name": "Python 3",
      "language": "python",
      "name": "python3"
    },
    "language_info": {
      "codemirror_mode": {
        "name": "ipython",
        "version": 3
      },
      "file_extension": ".py",
      "mimetype": "text/x-python",
      "name": "python",
      "nbconvert_exporter": "python",
      "pygments_lexer": "ipython3",
      "version": "3.10.6"
    },
    "vscode": {
      "interpreter": {
        "hash": "916dbcbb3f70747c44a77c7bcd40155683ae19c65e1c03b4aa3499c5328201f1"
      }
    }
  },
  "nbformat": 4,
  "nbformat_minor": 0
}
