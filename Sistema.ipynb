{
 "cells": [
  {
   "cell_type": "code",
   "execution_count": 3,
   "metadata": {},
   "outputs": [],
   "source": [
    "import random\n",
    "import math    \n",
    "import copy    \n",
    "import numpy as np\n",
    "import matplotlib.pyplot as plt\n",
    "from PID import PID\n",
    "import Medidas\n",
    "import PSO"
   ]
  },
  {
   "cell_type": "code",
   "execution_count": 4,
   "metadata": {},
   "outputs": [
    {
     "ename": "TypeError",
     "evalue": "'Particula' object is not subscriptable",
     "output_type": "error",
     "traceback": [
      "\u001b[0;31m---------------------------------------------------------------------------\u001b[0m",
      "\u001b[0;31mTypeError\u001b[0m                                 Traceback (most recent call last)",
      "Cell \u001b[0;32mIn [4], line 23\u001b[0m\n\u001b[1;32m     20\u001b[0m pid_param\u001b[39m.\u001b[39mappend(set_point)\n\u001b[1;32m     22\u001b[0m particulas \u001b[39m=\u001b[39m PSO\u001b[39m.\u001b[39minicializate(n_part, dim, \u001b[39mmin\u001b[39m, \u001b[39mmax\u001b[39m)  \n\u001b[0;32m---> 23\u001b[0m PSO\u001b[39m.\u001b[39;49mupdate_sistem(particulas,\u001b[39mmin\u001b[39;49m,\u001b[39mmax\u001b[39;49m,w,c1,c2,parada,dim,pid_param)\n",
      "File \u001b[0;32m~/Documents/GitHub/IC-IT/PSO.py:141\u001b[0m, in \u001b[0;36mupdate_sistem\u001b[0;34m(particulas, min, max, w, c1, c2, parada, dim, pid_param)\u001b[0m\n\u001b[1;32m    137\u001b[0m sem_melhoras \u001b[39m=\u001b[39m \u001b[39m0\u001b[39m\n\u001b[1;32m    139\u001b[0m n_iter \u001b[39m=\u001b[39m \u001b[39m1\u001b[39m\n\u001b[0;32m--> 141\u001b[0m particulas \u001b[39m=\u001b[39m [Medidas\u001b[39m.\u001b[39mISE(particula, pid_param) \u001b[39mfor\u001b[39;00m particula \u001b[39min\u001b[39;00m particulas]\n\u001b[1;32m    143\u001b[0m g_best \u001b[39m=\u001b[39m updating_gbest(particulas)\u001b[39m.\u001b[39mcopy()\n\u001b[1;32m    145\u001b[0m \u001b[39mwhile\u001b[39;00m(\u001b[39mTrue\u001b[39;00m):\n",
      "File \u001b[0;32m~/Documents/GitHub/IC-IT/PSO.py:141\u001b[0m, in \u001b[0;36m<listcomp>\u001b[0;34m(.0)\u001b[0m\n\u001b[1;32m    137\u001b[0m sem_melhoras \u001b[39m=\u001b[39m \u001b[39m0\u001b[39m\n\u001b[1;32m    139\u001b[0m n_iter \u001b[39m=\u001b[39m \u001b[39m1\u001b[39m\n\u001b[0;32m--> 141\u001b[0m particulas \u001b[39m=\u001b[39m [Medidas\u001b[39m.\u001b[39;49mISE(particula, pid_param) \u001b[39mfor\u001b[39;00m particula \u001b[39min\u001b[39;00m particulas]\n\u001b[1;32m    143\u001b[0m g_best \u001b[39m=\u001b[39m updating_gbest(particulas)\u001b[39m.\u001b[39mcopy()\n\u001b[1;32m    145\u001b[0m \u001b[39mwhile\u001b[39;00m(\u001b[39mTrue\u001b[39;00m):\n",
      "File \u001b[0;32m~/Documents/GitHub/IC-IT/Medidas.py:34\u001b[0m, in \u001b[0;36mISE\u001b[0;34m(particula, pid_param, alpha)\u001b[0m\n\u001b[1;32m     32\u001b[0m \u001b[39melse\u001b[39;00m:\n\u001b[1;32m     33\u001b[0m   _, particula\u001b[39m.\u001b[39merro, _ \u001b[39m=\u001b[39m pid\u001b[39m.\u001b[39mcontroller(particula\u001b[39m.\u001b[39mX[\u001b[39m0\u001b[39m],particula\u001b[39m.\u001b[39mX[\u001b[39m1\u001b[39m],particula\u001b[39m.\u001b[39mX[\u001b[39m2\u001b[39m])\n\u001b[0;32m---> 34\u001b[0m   particula\u001b[39m.\u001b[39merro \u001b[39m=\u001b[39m \u001b[39msum\u001b[39m(particula\u001b[39m.\u001b[39merro \u001b[39m*\u001b[39m\u001b[39m*\u001b[39m \u001b[39m2\u001b[39m) \u001b[39m+\u001b[39m (alpha \u001b[39m*\u001b[39m Overshoot(particula, pid_param))\n\u001b[1;32m     35\u001b[0m   \u001b[39m# print(f'particula.erro : {particula.erro:,.2f} posição: {particula.X} pbest {particula.pbest}' )\u001b[39;00m\n\u001b[1;32m     36\u001b[0m   \u001b[39mreturn\u001b[39;00m particula\n",
      "File \u001b[0;32m~/Documents/GitHub/IC-IT/Medidas.py:126\u001b[0m, in \u001b[0;36mOvershoot\u001b[0;34m(particula, pid_param)\u001b[0m\n\u001b[1;32m    123\u001b[0m \u001b[39mdef\u001b[39;00m \u001b[39mOvershoot\u001b[39m(particula,pid_param):  \n\u001b[1;32m    124\u001b[0m   pid \u001b[39m=\u001b[39m Pid(pid_param[\u001b[39m0\u001b[39m],pid_param[\u001b[39m1\u001b[39m],set_point \u001b[39m=\u001b[39m pid_param[\u001b[39m2\u001b[39m])\n\u001b[0;32m--> 126\u001b[0m   Y, _, T \u001b[39m=\u001b[39m pid\u001b[39m.\u001b[39mcontroller(particula[\u001b[39m0\u001b[39;49m],particula[\u001b[39m1\u001b[39m],particula[\u001b[39m2\u001b[39m])\n\u001b[1;32m    128\u001b[0m   overshoot \u001b[39m=\u001b[39m np\u001b[39m.\u001b[39mmax(Y)\n\u001b[1;32m    130\u001b[0m   \u001b[39mreturn\u001b[39;00m overshoot\n",
      "\u001b[0;31mTypeError\u001b[0m: 'Particula' object is not subscriptable"
     ]
    }
   ],
   "source": [
    "num = [16]\n",
    "den = [1,4,16]\n",
    "set_point = 1.0\n",
    "\n",
    "pid_param = list()\n",
    "\n",
    "w = 1.0 # fator de inercia\n",
    "c1 = 1.0  # fator cognitivo\n",
    "c2 = 0.5 # fator social\n",
    " \n",
    "n_part = 10 # numero de particulas\n",
    "parada = 0.001 # critério de parada\n",
    "dim = 3 # dimensão da entrada \n",
    "\n",
    "min = [0.001, 0.0000001, 0.0000001] # minimo do sistema\n",
    "max = [2000000.0, 20.0, 20.0] # maximo do sistema\n",
    "\n",
    "pid_param.append(num)\n",
    "pid_param.append(den)\n",
    "pid_param.append(set_point)\n",
    "\n",
    "particulas = PSO.inicializate(n_part, dim, min, max)  \n",
    "PSO.update_sistem(particulas,min,max,w,c1,c2,parada,dim,pid_param)"
   ]
  }
 ],
 "metadata": {
  "kernelspec": {
   "display_name": "Python 3",
   "language": "python",
   "name": "python3"
  },
  "language_info": {
   "codemirror_mode": {
    "name": "ipython",
    "version": 3
   },
   "file_extension": ".py",
   "mimetype": "text/x-python",
   "name": "python",
   "nbconvert_exporter": "python",
   "pygments_lexer": "ipython3",
   "version": "3.10.6"
  },
  "orig_nbformat": 4,
  "vscode": {
   "interpreter": {
    "hash": "916dbcbb3f70747c44a77c7bcd40155683ae19c65e1c03b4aa3499c5328201f1"
   }
  }
 },
 "nbformat": 4,
 "nbformat_minor": 2
}
