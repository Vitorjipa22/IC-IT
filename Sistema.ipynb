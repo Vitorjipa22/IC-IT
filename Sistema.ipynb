{
 "cells": [
  {
   "cell_type": "code",
   "execution_count": null,
   "metadata": {},
   "outputs": [],
   "source": [
    "import random\n",
    "import math    \n",
    "import copy    \n",
    "import numpy as np\n",
    "import matplotlib.pyplot as plt\n",
    "from PID import PID\n",
    "import Medidas\n",
    "import PSO"
   ]
  },
  {
   "cell_type": "code",
   "execution_count": null,
   "metadata": {},
   "outputs": [],
   "source": [
    "num = [16]\n",
    "den = [1,4,16]\n",
    "set_point = 1.0\n",
    "\n",
    "pid_param = list()\n",
    "\n",
    "w = 1.0 # fator de inercia\n",
    "c1 = 1.0  # fator cognitivo\n",
    "c2 = 0.5 # fator social\n",
    " \n",
    "n_part = 10 # numero de particulas\n",
    "parada = 0.001 # critério de parada\n",
    "dim = 3 # dimensão da entrada \n",
    "\n",
    "min = [0.001, 0.0000001, 0.0000001] # minimo do sistema\n",
    "max = [2000000.0, 20.0, 20.0] # maximo do sistema\n",
    "\n",
    "pid_param.append(num)\n",
    "pid_param.append(den)\n",
    "pid_param.append(set_point)\n",
    "\n",
    "particulas = PSO.inicializate(n_part, dim, min, max)  \n",
    "PSO.update_sistem(particulas,min,max,w,c1,c2,parada,dim,pid_param)"
   ]
  }
 ],
 "metadata": {
  "kernelspec": {
   "display_name": "Python 3",
   "language": "python",
   "name": "python3"
  },
  "language_info": {
   "codemirror_mode": {
    "name": "ipython",
    "version": 3
   },
   "file_extension": ".py",
   "mimetype": "text/x-python",
   "name": "python",
   "nbconvert_exporter": "python",
   "pygments_lexer": "ipython3",
   "version": "3.10.6"
  },
  "orig_nbformat": 4,
  "vscode": {
   "interpreter": {
    "hash": "916dbcbb3f70747c44a77c7bcd40155683ae19c65e1c03b4aa3499c5328201f1"
   }
  }
 },
 "nbformat": 4,
 "nbformat_minor": 2
}
