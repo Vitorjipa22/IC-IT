{
 "cells": [
  {
   "cell_type": "code",
   "execution_count": 1,
   "metadata": {},
   "outputs": [],
   "source": [
    "import random\n",
    "import math    \n",
    "import copy    \n",
    "import numpy as np\n",
    "import matplotlib.pyplot as plt\n",
    "from PID import PID\n",
    "import Medidas\n",
    "import PSO"
   ]
  },
  {
   "cell_type": "code",
   "execution_count": 2,
   "metadata": {},
   "outputs": [
    {
     "name": "stdout",
     "output_type": "stream",
     "text": [
      "Overshoot: 1.8420806633627098\n",
      "alpha: 100.0\n",
      "Overshoot: 1.8404916133694824\n",
      "alpha: 100.0\n",
      "Overshoot: 1.9226372126829518\n",
      "alpha: 100.0\n",
      "Overshoot: 1.8277975119228453\n",
      "alpha: 100.0\n",
      "Overshoot: 1.9189875276015087\n",
      "alpha: 100.0\n",
      "Overshoot: 1.0652518283290802\n",
      "alpha: 100.0\n",
      "Overshoot: 1.9383396867833895\n",
      "alpha: 100.0\n",
      "Overshoot: 1.9204130429953021\n",
      "alpha: 100.0\n",
      "Overshoot: 1.8901868123208971\n",
      "alpha: 100.0\n",
      "Overshoot: 1.912703620259085\n",
      "alpha: 100.0\n",
      "[<PSO.Particula object at 0x7fdb7201ded0>, <PSO.Particula object at 0x7fdb7201de70>, <PSO.Particula object at 0x7fdb7201dea0>, <PSO.Particula object at 0x7fdb7201df30>, <PSO.Particula object at 0x7fdb7201c100>, <PSO.Particula object at 0x7fdb7201c130>, <PSO.Particula object at 0x7fdb7201c160>, <PSO.Particula object at 0x7fdb7201c190>, <PSO.Particula object at 0x7fdb7201c1c0>, <PSO.Particula object at 0x7fdb7201c1f0>]\n",
      "[None, None, None, None, None, None, None, None, None, None]\n"
     ]
    },
    {
     "ename": "AttributeError",
     "evalue": "'NoneType' object has no attribute 'X'",
     "output_type": "error",
     "traceback": [
      "\u001b[0;31m---------------------------------------------------------------------------\u001b[0m",
      "\u001b[0;31mAttributeError\u001b[0m                            Traceback (most recent call last)",
      "Cell \u001b[0;32mIn [2], line 27\u001b[0m\n\u001b[1;32m     24\u001b[0m particulas \u001b[39m=\u001b[39m PSO\u001b[39m.\u001b[39minicializate(n_part, dim, \u001b[39mmin\u001b[39m, \u001b[39mmax\u001b[39m)  \n\u001b[1;32m     25\u001b[0m sistema\u001b[39m.\u001b[39mappend(particulas)\n\u001b[0;32m---> 27\u001b[0m PSO\u001b[39m.\u001b[39;49mupdate_sistem(sistema,particulas,\u001b[39mmin\u001b[39;49m,\u001b[39mmax\u001b[39;49m,w,c1,c2,parada,dim,pid_param)\n",
      "File \u001b[0;32m~/Documents/GitHub/IC-IT/PSO.py:169\u001b[0m, in \u001b[0;36mupdate_sistem\u001b[0;34m(sistema, particulas, min, max, w, c1, c2, parada, dim, pid_param)\u001b[0m\n\u001b[1;32m    166\u001b[0m   \u001b[39mprint\u001b[39m(\u001b[39mf\u001b[39m\u001b[39m'\u001b[39m\u001b[39m< \u001b[39m\u001b[39m{\u001b[39;00mn_iter\u001b[39m}\u001b[39;00m\u001b[39m iterações antes de atingir o critério. >\u001b[39m\u001b[39m'\u001b[39m)\n\u001b[1;32m    167\u001b[0m   \u001b[39mbreak\u001b[39;00m\n\u001b[0;32m--> 169\u001b[0m particulas \u001b[39m=\u001b[39m [updating_particle(particula, \u001b[39mmin\u001b[39m, \u001b[39mmax\u001b[39m,dim) \u001b[39mfor\u001b[39;00m particula \u001b[39min\u001b[39;00m particulas]\n\u001b[1;32m    170\u001b[0m particulas \u001b[39m=\u001b[39m [updating_velocity(particula,w,c1,c2,g_best,dim) \u001b[39mfor\u001b[39;00m particula \u001b[39min\u001b[39;00m particulas]\n\u001b[1;32m    171\u001b[0m particulas \u001b[39m=\u001b[39m [Medidas\u001b[39m.\u001b[39mISE(particula, pid_param) \u001b[39mfor\u001b[39;00m particula \u001b[39min\u001b[39;00m particulas]\n",
      "File \u001b[0;32m~/Documents/GitHub/IC-IT/PSO.py:169\u001b[0m, in \u001b[0;36m<listcomp>\u001b[0;34m(.0)\u001b[0m\n\u001b[1;32m    166\u001b[0m   \u001b[39mprint\u001b[39m(\u001b[39mf\u001b[39m\u001b[39m'\u001b[39m\u001b[39m< \u001b[39m\u001b[39m{\u001b[39;00mn_iter\u001b[39m}\u001b[39;00m\u001b[39m iterações antes de atingir o critério. >\u001b[39m\u001b[39m'\u001b[39m)\n\u001b[1;32m    167\u001b[0m   \u001b[39mbreak\u001b[39;00m\n\u001b[0;32m--> 169\u001b[0m particulas \u001b[39m=\u001b[39m [updating_particle(particula, \u001b[39mmin\u001b[39;49m, \u001b[39mmax\u001b[39;49m,dim) \u001b[39mfor\u001b[39;00m particula \u001b[39min\u001b[39;00m particulas]\n\u001b[1;32m    170\u001b[0m particulas \u001b[39m=\u001b[39m [updating_velocity(particula,w,c1,c2,g_best,dim) \u001b[39mfor\u001b[39;00m particula \u001b[39min\u001b[39;00m particulas]\n\u001b[1;32m    171\u001b[0m particulas \u001b[39m=\u001b[39m [Medidas\u001b[39m.\u001b[39mISE(particula, pid_param) \u001b[39mfor\u001b[39;00m particula \u001b[39min\u001b[39;00m particulas]\n",
      "File \u001b[0;32m~/Documents/GitHub/IC-IT/PSO.py:64\u001b[0m, in \u001b[0;36mupdating_particle\u001b[0;34m(particula, min, max, dim)\u001b[0m\n\u001b[1;32m     60\u001b[0m \u001b[39m'''\u001b[39;00m\n\u001b[1;32m     61\u001b[0m \u001b[39mFunção que atualiza a posição da particula\u001b[39;00m\n\u001b[1;32m     62\u001b[0m \u001b[39m'''\u001b[39;00m\n\u001b[1;32m     63\u001b[0m \u001b[39mfor\u001b[39;00m i \u001b[39min\u001b[39;00m \u001b[39mrange\u001b[39m(dim):\n\u001b[0;32m---> 64\u001b[0m   particula\u001b[39m.\u001b[39mX[i] \u001b[39m=\u001b[39m particula\u001b[39m.\u001b[39;49mX[i] \u001b[39m+\u001b[39m particula\u001b[39m.\u001b[39mV[i]\n\u001b[1;32m     66\u001b[0m   \u001b[39mif\u001b[39;00m particula\u001b[39m.\u001b[39mX[i] \u001b[39m>\u001b[39m \u001b[39mmax\u001b[39m[i]:\n\u001b[1;32m     67\u001b[0m     particula\u001b[39m.\u001b[39mX[i] \u001b[39m=\u001b[39m \u001b[39mmax\u001b[39m[i]\n",
      "\u001b[0;31mAttributeError\u001b[0m: 'NoneType' object has no attribute 'X'"
     ]
    }
   ],
   "source": [
    "num = [16]\n",
    "den = [1,4,16]\n",
    "set_point = 1.0\n",
    "\n",
    "pid_param = list()\n",
    "\n",
    "w = 1.0 # fator de inercia\n",
    "c1 = 1.0  # fator cognitivo\n",
    "c2 = 0.5 # fator social\n",
    " \n",
    "n_part = 10 # numero de particulas\n",
    "parada = 0.001 # critério de parada\n",
    "dim = 3 # dimensão da entrada \n",
    "\n",
    "min = [0.001, 0.0000001, 0.0000001] # minimo do sistema\n",
    "max = [100.0, 20.0, 20.0] # maximo do sistema\n",
    "\n",
    "pid_param.append(num)\n",
    "pid_param.append(den)\n",
    "pid_param.append(set_point)\n",
    "\n",
    "sistema = list()\n",
    "\n",
    "particulas = PSO.inicializate(n_part, dim, min, max)  \n",
    "sistema.append(particulas)\n",
    "\n",
    "PSO.update_sistem(sistema,particulas,min,max,w,c1,c2,parada,dim,pid_param)"
   ]
  }
 ],
 "metadata": {
  "kernelspec": {
   "display_name": "Python 3",
   "language": "python",
   "name": "python3"
  },
  "language_info": {
   "codemirror_mode": {
    "name": "ipython",
    "version": 3
   },
   "file_extension": ".py",
   "mimetype": "text/x-python",
   "name": "python",
   "nbconvert_exporter": "python",
   "pygments_lexer": "ipython3",
   "version": "3.10.6"
  },
  "orig_nbformat": 4,
  "vscode": {
   "interpreter": {
    "hash": "916dbcbb3f70747c44a77c7bcd40155683ae19c65e1c03b4aa3499c5328201f1"
   }
  }
 },
 "nbformat": 4,
 "nbformat_minor": 2
}
